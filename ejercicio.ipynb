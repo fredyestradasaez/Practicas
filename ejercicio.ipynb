{
  "nbformat": 4,
  "nbformat_minor": 0,
  "metadata": {
    "colab": {
      "provenance": [],
      "authorship_tag": "ABX9TyNK8Ml39Nj8d40egT+tYGNs",
      "include_colab_link": true
    },
    "kernelspec": {
      "name": "python3",
      "display_name": "Python 3"
    },
    "language_info": {
      "name": "python"
    }
  },
  "cells": [
    {
      "cell_type": "markdown",
      "metadata": {
        "id": "view-in-github",
        "colab_type": "text"
      },
      "source": [
        "<a href=\"https://colab.research.google.com/github/fredyestradasaez/Practicas/blob/main/ejercicio.ipynb\" target=\"_parent\"><img src=\"https://colab.research.google.com/assets/colab-badge.svg\" alt=\"Open In Colab\"/></a>"
      ]
    },
    {
      "cell_type": "code",
      "execution_count": 1,
      "metadata": {
        "id": "ZYwwM6iHCWbH"
      },
      "outputs": [],
      "source": [
        "\n"
      ]
    },
    {
      "cell_type": "markdown",
      "source": [
        "# SOLICITAR INFORMACION ACADEMICA \n",
        "#### **ID: Fredy Estrada Saez**\n",
        "#### **ID: 000522583**\n"
      ],
      "metadata": {
        "id": "AFHBDycVCuA_"
      }
    },
    {
      "cell_type": "code",
      "source": [
        "# solicitar informacion academica \n",
        "id = int(input(\"ingrese su id\"))\n",
        "calificacion = input(\"Ingresa la calificación (mala, regular, buena, excelente): \")\n",
        "\n",
        "\n",
        "#calcular si su nota es buena o mala\n",
        "if calificacion == \"mala\":\n",
        "    puntaje = 0 < 3.0\n",
        "elif calificacion == \"regular\":\n",
        "    puntaje = 3.0 < 4.0\n",
        "elif calificacion == \"buena\":\n",
        "    puntaje = 4.0 < 4.5\n",
        "elif calificacion == \"excelente\":\n",
        "    puntaje = 4.5 < 5.0\n",
        "else:\n",
        "    print(\"Calificación no reconocida\")\n",
        "    puntaje = None\n",
        "\n",
        "\n",
        "\n"
      ],
      "metadata": {
        "colab": {
          "base_uri": "https://localhost:8080/"
        },
        "id": "YiT8ZpfMDbp2",
        "outputId": "9aeffab6-4442-4d0c-af70-e08b3ac64337"
      },
      "execution_count": 17,
      "outputs": [
        {
          "output_type": "stream",
          "name": "stdout",
          "text": [
            "ingrese su id000522583\n",
            "Ingresa la calificación (mala, regular, buena, excelente): buena\n",
            "El puntaje asignado es: True\n"
          ]
        }
      ]
    },
    {
      "cell_type": "code",
      "source": [],
      "metadata": {
        "id": "W1shanjUJl6w"
      },
      "execution_count": null,
      "outputs": []
    }
  ]
}