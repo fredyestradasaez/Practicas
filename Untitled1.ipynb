{
  "nbformat": 4,
  "nbformat_minor": 0,
  "metadata": {
    "colab": {
      "provenance": [],
      "authorship_tag": "ABX9TyNlk/Aj5cOhtbb6xV+YcA28",
      "include_colab_link": true
    },
    "kernelspec": {
      "name": "python3",
      "display_name": "Python 3"
    },
    "language_info": {
      "name": "python"
    }
  },
  "cells": [
    {
      "cell_type": "markdown",
      "metadata": {
        "id": "view-in-github",
        "colab_type": "text"
      },
      "source": [
        "<a href=\"https://colab.research.google.com/github/fredyestradasaez/Practicas/blob/main/Untitled1.ipynb\" target=\"_parent\"><img src=\"https://colab.research.google.com/assets/colab-badge.svg\" alt=\"Open In Colab\"/></a>"
      ]
    },
    {
      "cell_type": "code",
      "execution_count": 1,
      "metadata": {
        "id": "ZYwwM6iHCWbH"
      },
      "outputs": [],
      "source": [
        "\n"
      ]
    },
    {
      "cell_type": "markdown",
      "source": [
        "# SOLICITAR INFORMACION ACADEMICA \n",
        "#### **ID: Fredy Estrada Saez**\n",
        "#### **ID: 000522583**\n"
      ],
      "metadata": {
        "id": "AFHBDycVCuA_"
      }
    },
    {
      "cell_type": "code",
      "source": [
        "# solicitar informacion academica \n",
        "id = int(input(\"ingrese su id\"))\n",
        "calificacion = input(\"Ingresa la calificación (mala, regular, buena, excelente): \")\n",
        "\n",
        "\n",
        "#calcular si su nota es buena o mala\n",
        "if calificacion == \"mala\":\n",
        "    puntaje = 0 < 3.0\n",
        "elif calificacion == \"regular\":\n",
        "    puntaje = 3.0 < 4.0\n",
        "elif calificacion == \"buena\":\n",
        "    puntaje = 4.0 < 4.5\n",
        "elif calificacion == \"excelente\":\n",
        "    puntaje = 4.5 < 5.0\n",
        "else:\n",
        "    print(\"Calificación no reconocida\")\n",
        "    puntaje = None\n",
        "\n",
        "\n",
        "\n"
      ],
      "metadata": {
        "colab": {
          "base_uri": "https://localhost:8080/"
        },
        "id": "YiT8ZpfMDbp2",
        "outputId": "9aeffab6-4442-4d0c-af70-e08b3ac64337"
      },
      "execution_count": 17,
      "outputs": [
        {
          "output_type": "stream",
          "name": "stdout",
          "text": [
            "ingrese su id000522583\n",
            "Ingresa la calificación (mala, regular, buena, excelente): buena\n",
            "El puntaje asignado es: True\n"
          ]
        }
      ]
    },
    {
      "cell_type": "code",
      "source": [
        "id = int(input(\"Ingrese su ID: \"))\n",
        "calificacion = input(\"Ingrese la calificación (mala, regular, buena, excelente): \")\n",
        "\n",
        "if calificacion == \"mala\":\n",
        "    puntaje = \"mala\"\n",
        "elif calificacion == \"regular\":\n",
        "    puntaje = \"mala\" if 3.0 <= calificacion < 4.0 else \"buena\"\n",
        "elif calificacion == \"buena\":\n",
        "    puntaje = \"buena\" if 4.0 <= calificacion < 4.5 else \"excelente\"\n",
        "elif calificacion == \"excelente\":\n",
        "    puntaje = \"excelente\" if 4.5 <= calificacion <= 5.0 else \"buena\"\n",
        "else:\n",
        "    print(\"Calificación no reconocida\")\n",
        "    puntaje = None\n",
        "\n",
        "print(f\"La calificación del estudiante con ID ( id ) es: (puntaje)\")"
      ],
      "metadata": {
        "colab": {
          "base_uri": "https://localhost:8080/",
          "height": 269
        },
        "id": "QJaQjBYkFjfc",
        "outputId": "32c59f8a-a05d-42c6-cfa4-a0e3ad16de50"
      },
      "execution_count": 20,
      "outputs": [
        {
          "name": "stdout",
          "output_type": "stream",
          "text": [
            "Ingrese su ID: 000522583\n",
            "Ingrese la calificación (mala, regular, buena, excelente): buena\n"
          ]
        },
        {
          "output_type": "error",
          "ename": "TypeError",
          "evalue": "ignored",
          "traceback": [
            "\u001b[0;31m---------------------------------------------------------------------------\u001b[0m",
            "\u001b[0;31mTypeError\u001b[0m                                 Traceback (most recent call last)",
            "\u001b[0;32m<ipython-input-20-22c611f915b0>\u001b[0m in \u001b[0;36m<cell line: 4>\u001b[0;34m()\u001b[0m\n\u001b[1;32m      7\u001b[0m     \u001b[0mpuntaje\u001b[0m \u001b[0;34m=\u001b[0m \u001b[0;34m\"mala\"\u001b[0m \u001b[0;32mif\u001b[0m \u001b[0;36m3.0\u001b[0m \u001b[0;34m<=\u001b[0m \u001b[0mcalificacion\u001b[0m \u001b[0;34m<\u001b[0m \u001b[0;36m4.0\u001b[0m \u001b[0;32melse\u001b[0m \u001b[0;34m\"buena\"\u001b[0m\u001b[0;34m\u001b[0m\u001b[0;34m\u001b[0m\u001b[0m\n\u001b[1;32m      8\u001b[0m \u001b[0;32melif\u001b[0m \u001b[0mcalificacion\u001b[0m \u001b[0;34m==\u001b[0m \u001b[0;34m\"buena\"\u001b[0m\u001b[0;34m:\u001b[0m\u001b[0;34m\u001b[0m\u001b[0;34m\u001b[0m\u001b[0m\n\u001b[0;32m----> 9\u001b[0;31m     \u001b[0mpuntaje\u001b[0m \u001b[0;34m=\u001b[0m \u001b[0;34m\"buena\"\u001b[0m \u001b[0;32mif\u001b[0m \u001b[0;36m4.0\u001b[0m \u001b[0;34m<=\u001b[0m \u001b[0mcalificacion\u001b[0m \u001b[0;34m<\u001b[0m \u001b[0;36m4.5\u001b[0m \u001b[0;32melse\u001b[0m \u001b[0;34m\"excelente\"\u001b[0m\u001b[0;34m\u001b[0m\u001b[0;34m\u001b[0m\u001b[0m\n\u001b[0m\u001b[1;32m     10\u001b[0m \u001b[0;32melif\u001b[0m \u001b[0mcalificacion\u001b[0m \u001b[0;34m==\u001b[0m \u001b[0;34m\"excelente\"\u001b[0m\u001b[0;34m:\u001b[0m\u001b[0;34m\u001b[0m\u001b[0;34m\u001b[0m\u001b[0m\n\u001b[1;32m     11\u001b[0m     \u001b[0mpuntaje\u001b[0m \u001b[0;34m=\u001b[0m \u001b[0;34m\"excelente\"\u001b[0m \u001b[0;32mif\u001b[0m \u001b[0;36m4.5\u001b[0m \u001b[0;34m<=\u001b[0m \u001b[0mcalificacion\u001b[0m \u001b[0;34m<=\u001b[0m \u001b[0;36m5.0\u001b[0m \u001b[0;32melse\u001b[0m \u001b[0;34m\"buena\"\u001b[0m\u001b[0;34m\u001b[0m\u001b[0;34m\u001b[0m\u001b[0m\n",
            "\u001b[0;31mTypeError\u001b[0m: '<=' not supported between instances of 'float' and 'str'"
          ]
        }
      ]
    },
    {
      "cell_type": "code",
      "source": [],
      "metadata": {
        "id": "W1shanjUJl6w"
      },
      "execution_count": null,
      "outputs": []
    }
  ]
}