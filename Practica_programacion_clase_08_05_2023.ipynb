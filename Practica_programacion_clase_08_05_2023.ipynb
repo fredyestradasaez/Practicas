{
  "nbformat": 4,
  "nbformat_minor": 0,
  "metadata": {
    "colab": {
      "provenance": [],
      "authorship_tag": "ABX9TyNnouoBYhBXSNl29pn4kiS5",
      "include_colab_link": true
    },
    "kernelspec": {
      "name": "python3",
      "display_name": "Python 3"
    },
    "language_info": {
      "name": "python"
    }
  },
  "cells": [
    {
      "cell_type": "markdown",
      "metadata": {
        "id": "view-in-github",
        "colab_type": "text"
      },
      "source": [
        "<a href=\"https://colab.research.google.com/github/fredyestradasaez/Practicas/blob/main/Practica_programacion_clase_08_05_2023.ipynb\" target=\"_parent\"><img src=\"https://colab.research.google.com/assets/colab-badge.svg\" alt=\"Open In Colab\"/></a>"
      ]
    },
    {
      "cell_type": "markdown",
      "source": [
        "# PROBLEMA 3\n",
        "#### Crea una función que calcule y retorne el promedio de la nota para cada uno de los estudiantes de un diccionario donde las llaves son los nombres y los valores son listas con las notas de cada estudiante.\n",
        "\n",
        "> Bloque con sangría\n",
        "\n"
      ],
      "metadata": {
        "id": "564OVWLrOfx-"
      }
    },
    {
      "cell_type": "code",
      "source": [
        "notas = {\n",
        "    \"Juan\": [7, 8, 9],\n",
        "    \"María\": [6, 7, 8],\n",
        "    \"Pedro\": [9, 8, 9],\n",
        "    \"Ana\": [7, 6, 8]\n",
        "} \n",
        "\n",
        "\n",
        "for estudiante, lista_notas in notas.items():\n",
        "    suma_notas = sum(lista_notas)\n",
        "    promedio_notas = suma_notas / len(lista_notas)\n",
        "    print(f\"El promedio de notas de {estudiante} es {promedio_notas}\")\n",
        "\n",
        "\n",
        "\n",
        "\n",
        "\n",
        "\n"
      ],
      "metadata": {
        "colab": {
          "base_uri": "https://localhost:8080/"
        },
        "id": "N7KL1kzzO7CH",
        "outputId": "d35d0c97-46b2-4ae1-8af3-d8752e0bcf2e"
      },
      "execution_count": 3,
      "outputs": [
        {
          "output_type": "stream",
          "name": "stdout",
          "text": [
            "El promedio de notas de Juan es 8.0\n",
            "El promedio de notas de María es 7.0\n",
            "El promedio de notas de Pedro es 8.666666666666666\n",
            "El promedio de notas de Ana es 7.0\n"
          ]
        }
      ]
    },
    {
      "cell_type": "markdown",
      "source": [
        "# PROBLEMA 2\n",
        "#### Crea una función que reciba nombres y notas de estudiantes, y retorne un diccionario donde las llaves sean los nombres y los valores sean listas con las notas de cada estudiante."
      ],
      "metadata": {
        "id": "yZ5D0EadPJjn"
      }
    },
    {
      "cell_type": "code",
      "source": [
        "# codigo de notas\n",
        "\n",
        "def crear_diccionario_notas(nombres, notas):\n",
        "    diccionario_notas = {}\n",
        "    for i in range(len(nombres)):\n",
        "        diccionario_notas[nombres[i]] = notas[i]\n",
        "    return diccionario_notas\n",
        "\n",
        "# imprimir notas segun estudiantes\n",
        "\n",
        "nombres = [\"Juan\", \"María\", \"Pedro\", \"Ana\"]\n",
        "notas = [[7, 8, 9], [6, 7, 8], [9, 8, 9], [7, 6, 8]]\n",
        "diccionario_notas = crear_diccionario_notas(nombres, notas)\n",
        "print(diccionario_notas)\n",
        "\n",
        "\n"
      ],
      "metadata": {
        "colab": {
          "base_uri": "https://localhost:8080/"
        },
        "id": "1i7UuQdpPS_n",
        "outputId": "a844c728-b5fd-4e0d-e3c1-42c57684841c"
      },
      "execution_count": 4,
      "outputs": [
        {
          "output_type": "stream",
          "name": "stdout",
          "text": [
            "{'Juan': [7, 8, 9], 'María': [6, 7, 8], 'Pedro': [9, 8, 9], 'Ana': [7, 6, 8]}\n"
          ]
        }
      ]
    },
    {
      "cell_type": "markdown",
      "source": [
        "# PROBLEMA 1\n",
        "#### Crea una función que genere un nuevo diccionario a partir de dos listas, una con elementos strings y otra con elementos numéricos. Suponga que las listas son del mismo tamaño."
      ],
      "metadata": {
        "id": "K_yPYP9qP08D"
      }
    },
    {
      "cell_type": "code",
      "source": [
        "def crear_diccionario(lista_strings, lista_numeros):\n",
        "    diccionario = {}\n",
        "    for i in range(len(lista_strings)):\n",
        "        diccionario[lista_strings[i]] = lista_numeros[i]\n",
        "    return diccionario \n",
        "\n",
        "\n",
        "nombres = [\"Juan\", \"María\", \"Pedro\"]\n",
        "edades = [25, 30, 40]\n",
        "diccionario = crear_diccionario(nombres, edades)\n",
        "print(diccionario)\n",
        "\n"
      ],
      "metadata": {
        "colab": {
          "base_uri": "https://localhost:8080/"
        },
        "id": "VvuhTSS3P-cB",
        "outputId": "06f941ba-93bb-4ea7-90ac-4acd9f99a657"
      },
      "execution_count": 6,
      "outputs": [
        {
          "output_type": "stream",
          "name": "stdout",
          "text": [
            "{'Juan': 25, 'María': 30, 'Pedro': 40}\n"
          ]
        }
      ]
    },
    {
      "cell_type": "code",
      "source": [
        "# solucion 2"
      ],
      "metadata": {
        "id": "AtXbMkFSQTDz"
      },
      "execution_count": 7,
      "outputs": []
    },
    {
      "cell_type": "code",
      "source": [
        "def is_in_phrase(word, phrase):\n",
        "  return word.lower() in phrase-lower()\n",
        "\n",
        "my_name = input(\"Escriba su nombre: \")\n",
        "my_phrase = input(\"Escriba su oracion: \")\n",
        "\n",
        "if is_in_phrase(my_name, my_phrase):\n",
        "  print(\"la palabra se encuentra en la frase.\")\n",
        "else: \n",
        "  print(\"la palabra NO se encuentra en la frase. \") \n",
        "\n"
      ],
      "metadata": {
        "id": "17P3_VpvQwbM"
      },
      "execution_count": null,
      "outputs": []
    },
    {
      "cell_type": "code",
      "source": [
        "# ejercicio 2\n",
        "\n",
        "def nom_consecutive(word):\n",
        "    new_word = \"\"\n",
        "    for i in range(O, len(word), 2):\n",
        "        new_word += word[i]\n",
        "    return new_word \n",
        "\n",
        "print(nom_consecutive(\"Murcielagos\"))\n",
        "print(nom_consecutive(\"Lechuza\"))\n",
        "\n",
        "\n",
        "        "
      ],
      "metadata": {
        "id": "C8-dCD12Sk9b"
      },
      "execution_count": null,
      "outputs": []
    },
    {
      "cell_type": "code",
      "source": [
        "# solucion 1\n",
        "\n",
        "def reverse_word(word):\n",
        "    return word [:: - 1]\n",
        "\n",
        "print(reverse_word(\"Murcielagos\"))\n",
        "print(reverse_Word(\"Lechuza\"))\n"
      ],
      "metadata": {
        "id": "GTgqZHQGTPzD"
      },
      "execution_count": null,
      "outputs": []
    },
    {
      "cell_type": "code",
      "source": [
        "# solucion 1 ciclos\n",
        "\n",
        "def revere_word(word):\n",
        "    # return word[:: - 1]\n",
        "        new_word = \" \"\n",
        "for i in range(len(word)-1, -1, -1):\n",
        "        new_word += word[i]\n",
        "    return new_word \n",
        "print(reverse_word(Murcielagos)) \n",
        "\n",
        "\n",
        "\n"
      ],
      "metadata": {
        "id": "Etm4hLLoT9CU"
      },
      "execution_count": null,
      "outputs": []
    },
    {
      "cell_type": "code",
      "source": [
        "# ejercicio 4\n"
      ],
      "metadata": {
        "id": "YKYclN2BXtbr"
      },
      "execution_count": null,
      "outputs": []
    },
    {
      "cell_type": "code",
      "source": [
        "sujeto = [\"mami\", \"deseo\", \"princess\", \"mami\"]\n",
        "deseo = [\"yo quiero\", \"yo puedo\", \"yo vengo a\", \"voy a\"]\n",
        "accion = [\"encendelte\", \"amalte\", \"ligal\", \"jugal\"]\n",
        "adjetivo = [\"suave\", \"lento\", \"rapido\", \"fuerte\"]\n",
        "complemento = [\"hasta que salga el sol\", \"toda la noche\", \"hasta el amanecer\", \"todo el dia\",]\n",
        "final =[\"sin anestecia\", \"sin compromiso\", \"feis to feis\", \"sin miedo\"]\n",
        "\n",
        "my_dict(1: sujeto, 2: deseo,3: accion, 4: adjetivo, 5: complemento, 6: final)\n",
        "\n",
        "message = \"\"\n",
        "import random \n",
        "for i in range(lines):\n",
        "  for values in my_dict.values():\n",
        "  message += random.choice(values)\n",
        "  message += \"n/\"\n",
        "\n",
        "print(message)\n"
      ],
      "metadata": {
        "id": "Kd64fg3QX-vb"
      },
      "execution_count": null,
      "outputs": []
    },
    {
      "cell_type": "code",
      "source": [],
      "metadata": {
        "id": "aJFHb66Ta9qi"
      },
      "execution_count": null,
      "outputs": []
    }
  ]
}