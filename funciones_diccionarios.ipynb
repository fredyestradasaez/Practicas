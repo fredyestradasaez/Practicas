{
  "nbformat": 4,
  "nbformat_minor": 0,
  "metadata": {
    "colab": {
      "provenance": [],
      "authorship_tag": "ABX9TyOnaftzhGplQyrrGePs728L",
      "include_colab_link": true
    },
    "kernelspec": {
      "name": "python3",
      "display_name": "Python 3"
    },
    "language_info": {
      "name": "python"
    }
  },
  "cells": [
    {
      "cell_type": "markdown",
      "metadata": {
        "id": "view-in-github",
        "colab_type": "text"
      },
      "source": [
        "<a href=\"https://colab.research.google.com/github/fredyestradasaez/Practicas/blob/main/funciones_diccionarios.ipynb\" target=\"_parent\"><img src=\"https://colab.research.google.com/assets/colab-badge.svg\" alt=\"Open In Colab\"/></a>"
      ]
    },
    {
      "cell_type": "code",
      "execution_count": null,
      "metadata": {
        "id": "BXkB0RyxIWvI"
      },
      "outputs": [],
      "source": []
    },
    {
      "cell_type": "markdown",
      "source": [
        "# parametros \n",
        "\n",
        "CALCULAR EL TOTAL DE UNAS CANTIDADES Y UNOS PRECIOS"
      ],
      "metadata": {
        "id": "1tq4pO2nIY0F"
      }
    },
    {
      "cell_type": "code",
      "source": [
        "q = [2, 3, 5, 1, 4]\n",
        "prices = [1000, 2000, 1500, 1500, 2500]\n",
        "\n",
        "def calculate_total(q_list, prices_list):\n",
        "    total = 0\n",
        "    if len(q_list) == len(prices_list):\n",
        "       for i in range(len(q_list)):\n",
        "           total += q_list[i] * prices_list[i]\n",
        "    else:\n",
        "      print(\"las listas son de tamaños diferentes.\")\n",
        "    return total \n",
        "\n",
        "total_venta = calculate_total(q, prices)\n",
        "print(f\"ventas totaleas: $(total_venta)\")\n"
      ],
      "metadata": {
        "id": "nTsd3IIMIa8y",
        "colab": {
          "base_uri": "https://localhost:8080/"
        },
        "outputId": "0ee0a326-abad-42cd-efd9-f14e98bd3c20"
      },
      "execution_count": null,
      "outputs": [
        {
          "output_type": "stream",
          "name": "stdout",
          "text": [
            "ventas totaleas: $(total_venta)\n"
          ]
        }
      ]
    },
    {
      "cell_type": "code",
      "source": [],
      "metadata": {
        "id": "_txH1Nw3Qu0J"
      },
      "execution_count": null,
      "outputs": []
    },
    {
      "cell_type": "markdown",
      "source": [
        "#diccionario"
      ],
      "metadata": {
        "id": "QzUFtfagRmdi"
      }
    },
    {
      "cell_type": "code",
      "source": [],
      "metadata": {
        "id": "ARiWtCtbRp1p"
      },
      "execution_count": null,
      "outputs": []
    },
    {
      "cell_type": "code",
      "source": [
        "fast_food = (\"pizza\": 14000, \"hot dog\":10000, \"burger\":12000, \"soda\": 1500, \"sandwich\":5000)\n",
        "\n",
        "print(\"Menu:\")\n",
        "for key, value in fast_food, itens():\n",
        "  print(f\"(key)...$(value)\")"
      ],
      "metadata": {
        "colab": {
          "base_uri": "https://localhost:8080/",
          "height": 130
        },
        "id": "XD4Ki2nLRqV5",
        "outputId": "279ca1d9-7636-427e-cda9-925b09cd3d6a"
      },
      "execution_count": 18,
      "outputs": [
        {
          "output_type": "error",
          "ename": "SyntaxError",
          "evalue": "ignored",
          "traceback": [
            "\u001b[0;36m  File \u001b[0;32m\"<ipython-input-18-bb8ca887fa50>\"\u001b[0;36m, line \u001b[0;32m1\u001b[0m\n\u001b[0;31m    fast_food = (\"pizza\": 14000, \"hot dog\":10000, \"burger\":12000, \"soda\": 1500, \"sandwich\":5000)\u001b[0m\n\u001b[0m                        ^\u001b[0m\n\u001b[0;31mSyntaxError\u001b[0m\u001b[0;31m:\u001b[0m invalid syntax\n"
          ]
        }
      ]
    },
    {
      "cell_type": "code",
      "source": [
        "sales = 0 \n",
        "\n",
        "def sell_itens(itens_name, quatity):\n",
        "  if item_name not is sales, keys():\n",
        "    sales[itens_name] += quantity \n",
        "\n",
        "print(sales)\n",
        "sell_itens(\"pizza\", 1)\n",
        "sell_itens(\"hot dog\", 1)\n",
        "sell_itens(\"suizo\", 1)\n",
        "sell_itens(\"pizza\", 1)\n",
        " \n"
      ],
      "metadata": {
        "id": "PEIYtD6cStDy"
      },
      "execution_count": null,
      "outputs": []
    }
  ]
}